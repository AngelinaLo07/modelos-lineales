{
 "cells": [
  {
   "cell_type": "code",
   "execution_count": 21,
   "metadata": {},
   "outputs": [],
   "source": [
    "# Cargamos los módulos\n",
    "import numpy as np\n",
    "import pandas as pd\n",
    "import statsmodels.api as sm\n",
    "import statsmodels.formula.api as smf\n",
    "from stargazer.stargazer import Stargazer"
   ]
  },
  {
   "cell_type": "code",
   "execution_count": 22,
   "metadata": {},
   "outputs": [],
   "source": [
    "np.random.seed(42)\n",
    "\n",
    "diccionario ={\n",
    "    'female': np.random.binomial(1,0.5, 10000),\n",
    "    'ability': np.random.normal(size=10000)\n",
    "}"
   ]
  },
  {
   "cell_type": "code",
   "execution_count": 23,
   "metadata": {},
   "outputs": [
    {
     "data": {
      "text/html": [
       "<div>\n",
       "<style scoped>\n",
       "    .dataframe tbody tr th:only-of-type {\n",
       "        vertical-align: middle;\n",
       "    }\n",
       "\n",
       "    .dataframe tbody tr th {\n",
       "        vertical-align: top;\n",
       "    }\n",
       "\n",
       "    .dataframe thead th {\n",
       "        text-align: right;\n",
       "    }\n",
       "</style>\n",
       "<table border=\"1\" class=\"dataframe\">\n",
       "  <thead>\n",
       "    <tr style=\"text-align: right;\">\n",
       "      <th></th>\n",
       "      <th>female</th>\n",
       "      <th>ability</th>\n",
       "      <th>discrimination</th>\n",
       "      <th>occupation</th>\n",
       "      <th>wage</th>\n",
       "    </tr>\n",
       "  </thead>\n",
       "  <tbody>\n",
       "    <tr>\n",
       "      <th>0</th>\n",
       "      <td>0</td>\n",
       "      <td>-1.487862</td>\n",
       "      <td>0</td>\n",
       "      <td>-2.591872</td>\n",
       "      <td>-2.296051</td>\n",
       "    </tr>\n",
       "    <tr>\n",
       "      <th>1</th>\n",
       "      <td>1</td>\n",
       "      <td>-1.125186</td>\n",
       "      <td>1</td>\n",
       "      <td>-3.643047</td>\n",
       "      <td>-4.760694</td>\n",
       "    </tr>\n",
       "    <tr>\n",
       "      <th>2</th>\n",
       "      <td>1</td>\n",
       "      <td>0.388819</td>\n",
       "      <td>1</td>\n",
       "      <td>-1.254189</td>\n",
       "      <td>-0.210557</td>\n",
       "    </tr>\n",
       "    <tr>\n",
       "      <th>3</th>\n",
       "      <td>1</td>\n",
       "      <td>-1.173873</td>\n",
       "      <td>1</td>\n",
       "      <td>-4.236999</td>\n",
       "      <td>-6.425189</td>\n",
       "    </tr>\n",
       "    <tr>\n",
       "      <th>4</th>\n",
       "      <td>0</td>\n",
       "      <td>1.112634</td>\n",
       "      <td>0</td>\n",
       "      <td>3.659646</td>\n",
       "      <td>5.915666</td>\n",
       "    </tr>\n",
       "  </tbody>\n",
       "</table>\n",
       "</div>"
      ],
      "text/plain": [
       "   female   ability  discrimination  occupation      wage\n",
       "0       0 -1.487862               0   -2.591872 -2.296051\n",
       "1       1 -1.125186               1   -3.643047 -4.760694\n",
       "2       1  0.388819               1   -1.254189 -0.210557\n",
       "3       1 -1.173873               1   -4.236999 -6.425189\n",
       "4       0  1.112634               0    3.659646  5.915666"
      ]
     },
     "execution_count": 23,
     "metadata": {},
     "output_type": "execute_result"
    }
   ],
   "source": [
    "df = pd.DataFrame(diccionario)\n",
    "df['discrimination'] = df.female.copy()\n",
    "df['occupation'] = 1 + df['ability']*2 + df['female']*0 - df['discrimination'] * 2 + np.random.normal(size=10000)\n",
    "df['wage'] = 1 - df['discrimination'] + df['occupation'] + df['ability'] + np.random.normal(size=10000)\n",
    "df.head()"
   ]
  },
  {
   "cell_type": "code",
   "execution_count": 24,
   "metadata": {},
   "outputs": [],
   "source": [
    "modelo1 = sm.OLS.from_formula('wage ~ female', data = df)\n",
    "modelo2 = sm.OLS.from_formula('wage ~ female + occupation', data = df)\n",
    "modelo3 = sm.OLS.from_formula('wage ~ female + occupation + ability', data = df)"
   ]
  },
  {
   "cell_type": "code",
   "execution_count": 26,
   "metadata": {},
   "outputs": [
    {
     "data": {
      "text/html": [
       "<table style=\"text-align:center\"><tr><td colspan=\"4\" style=\"border-bottom: 1px solid black\"></td></tr><tr><td style=\"text-align:left\"></td><td colspan=\"3\"><em>Dependent variable:wage</em></td></tr><tr><td style=\"text-align:left\"></td><tr><td></td><td colspan=\"1\">Sesgado incondicional</td><td colspan=\"1\">Sesgado</td><td colspan=\"1\">Insesgado Condicional</td></tr><tr><td style=\"text-align:left\"></td><td>(1)</td><td>(2)</td><td>(3)</td></tr><tr><td colspan=\"4\" style=\"border-bottom: 1px solid black\"></td></tr><tr><td style=\"text-align:left\">Intercept</td><td>2.056<sup>***</sup></td><td>0.593<sup>***</sup></td><td>0.988<sup>***</sup></td></tr><tr><td style=\"text-align:left\"></td><td>(0.047)</td><td>(0.016)</td><td>(0.017)</td></tr><tr><td style=\"text-align:left\">ability</td><td></td><td></td><td>1.004<sup>***</sup></td></tr><tr><td style=\"text-align:left\"></td><td></td><td></td><td>(0.023)</td></tr><tr><td style=\"text-align:left\">female</td><td>-3.083<sup>***</sup></td><td>-0.221<sup>***</sup></td><td>-1.017<sup>***</sup></td></tr><tr><td style=\"text-align:left\"></td><td>(0.067)</td><td>(0.024)</td><td>(0.029)</td></tr><tr><td style=\"text-align:left\">occupation</td><td></td><td>1.403<sup>***</sup></td><td>1.003<sup>***</sup></td></tr><tr><td style=\"text-align:left\"></td><td></td><td>(0.005)</td><td>(0.010)</td></tr><td colspan=\"4\" style=\"border-bottom: 1px solid black\"></td></tr><tr><td style=\"text-align: left\">Observations</td><td>10,000</td><td>10,000</td><td>10,000</td></tr><tr><td style=\"text-align: left\">R<sup>2</sup></td><td>0.175</td><td>0.911</td><td>0.925</td></tr><tr><td style=\"text-align: left\">Adjusted R<sup>2</sup></td><td>0.175</td><td>0.911</td><td>0.925</td></tr><tr><td style=\"text-align: left\">Residual Std. Error</td><td>3.343 (df=9998)</td><td>1.098 (df=9997)</td><td>1.005 (df=9996)</td></tr><tr><td style=\"text-align: left\">F Statistic</td><td>2125.428<sup>***</sup> (df=1; 9998)</td><td>51200.370<sup>***</sup> (df=2; 9997)</td><td>41365.565<sup>***</sup> (df=3; 9996)</td></tr><tr><td colspan=\"4\" style=\"border-bottom: 1px solid black\"></td></tr><tr><td style=\"text-align: left\">Note:</td>\n",
       " <td colspan=\"3\" style=\"text-align: right\">\n",
       "  <sup>*</sup>p&lt;0.1;\n",
       "  <sup>**</sup>p&lt;0.05;\n",
       "  <sup>***</sup>p&lt;0.01\n",
       " </td></tr></table>"
      ],
      "text/plain": [
       "<stargazer.stargazer.Stargazer at 0x7ff2a35edb90>"
      ]
     },
     "execution_count": 26,
     "metadata": {},
     "output_type": "execute_result"
    }
   ],
   "source": [
    "st = Stargazer((modelo1.fit(), modelo2.fit(), modelo3.fit()))\n",
    "st.custom_columns([\"Sesgado incondicional\", \"Sesgado\", \"Insesgado Condicional\"], [1,1,1])\n",
    "st"
   ]
  },
  {
   "cell_type": "code",
   "execution_count": null,
   "metadata": {},
   "outputs": [],
   "source": []
  }
 ],
 "metadata": {
  "interpreter": {
   "hash": "5559e38aaa1a46293ac94fc6af3e6c13e1ce8b596ee75d4ce8712132156e5245"
  },
  "kernelspec": {
   "display_name": "Python 3.7.4 ('base')",
   "language": "python",
   "name": "python3"
  },
  "language_info": {
   "codemirror_mode": {
    "name": "ipython",
    "version": 3
   },
   "file_extension": ".py",
   "mimetype": "text/x-python",
   "name": "python",
   "nbconvert_exporter": "python",
   "pygments_lexer": "ipython3",
   "version": "3.7.4"
  },
  "orig_nbformat": 4
 },
 "nbformat": 4,
 "nbformat_minor": 2
}
