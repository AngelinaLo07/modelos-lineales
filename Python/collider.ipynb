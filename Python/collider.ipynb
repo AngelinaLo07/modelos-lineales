{
 "cells": [
  {
   "cell_type": "code",
   "execution_count": 3,
   "metadata": {},
   "outputs": [],
   "source": [
    "# Cargamos los módulos\n",
    "import numpy as np\n",
    "import pandas as pd\n",
    "import statsmodels.api as sm\n",
    "import statsmodels.formula.api as smf"
   ]
  },
  {
   "cell_type": "code",
   "execution_count": 4,
   "metadata": {},
   "outputs": [],
   "source": [
    "diccionario ={\n",
    "    'female': np.random.binomial(1,0.5, 10000),\n",
    "    'ability': np.random.normal(size=10000)\n",
    "}"
   ]
  },
  {
   "cell_type": "code",
   "execution_count": 6,
   "metadata": {},
   "outputs": [
    {
     "data": {
      "text/html": [
       "<div>\n",
       "<style scoped>\n",
       "    .dataframe tbody tr th:only-of-type {\n",
       "        vertical-align: middle;\n",
       "    }\n",
       "\n",
       "    .dataframe tbody tr th {\n",
       "        vertical-align: top;\n",
       "    }\n",
       "\n",
       "    .dataframe thead th {\n",
       "        text-align: right;\n",
       "    }\n",
       "</style>\n",
       "<table border=\"1\" class=\"dataframe\">\n",
       "  <thead>\n",
       "    <tr style=\"text-align: right;\">\n",
       "      <th></th>\n",
       "      <th>female</th>\n",
       "      <th>ability</th>\n",
       "      <th>discrimination</th>\n",
       "      <th>occupation</th>\n",
       "      <th>wage</th>\n",
       "    </tr>\n",
       "  </thead>\n",
       "  <tbody>\n",
       "    <tr>\n",
       "      <th>0</th>\n",
       "      <td>0</td>\n",
       "      <td>-0.547747</td>\n",
       "      <td>0</td>\n",
       "      <td>-0.005336</td>\n",
       "      <td>1.061173</td>\n",
       "    </tr>\n",
       "    <tr>\n",
       "      <th>1</th>\n",
       "      <td>0</td>\n",
       "      <td>-0.943300</td>\n",
       "      <td>0</td>\n",
       "      <td>-0.498001</td>\n",
       "      <td>-1.371667</td>\n",
       "    </tr>\n",
       "    <tr>\n",
       "      <th>2</th>\n",
       "      <td>0</td>\n",
       "      <td>-0.798733</td>\n",
       "      <td>0</td>\n",
       "      <td>-0.315066</td>\n",
       "      <td>1.145345</td>\n",
       "    </tr>\n",
       "    <tr>\n",
       "      <th>3</th>\n",
       "      <td>0</td>\n",
       "      <td>1.608723</td>\n",
       "      <td>0</td>\n",
       "      <td>4.820205</td>\n",
       "      <td>7.201098</td>\n",
       "    </tr>\n",
       "    <tr>\n",
       "      <th>4</th>\n",
       "      <td>0</td>\n",
       "      <td>1.259751</td>\n",
       "      <td>0</td>\n",
       "      <td>3.396563</td>\n",
       "      <td>5.540877</td>\n",
       "    </tr>\n",
       "  </tbody>\n",
       "</table>\n",
       "</div>"
      ],
      "text/plain": [
       "   female   ability  discrimination  occupation      wage\n",
       "0       0 -0.547747               0   -0.005336  1.061173\n",
       "1       0 -0.943300               0   -0.498001 -1.371667\n",
       "2       0 -0.798733               0   -0.315066  1.145345\n",
       "3       0  1.608723               0    4.820205  7.201098\n",
       "4       0  1.259751               0    3.396563  5.540877"
      ]
     },
     "execution_count": 6,
     "metadata": {},
     "output_type": "execute_result"
    }
   ],
   "source": [
    "df = pd.DataFrame(diccionario)\n",
    "df['discrimination'] = df.female.copy()\n",
    "df['occupation'] = 1 + df['ability']*2 + df['female']*0 - df['discrimination'] * 2 + np.random.normal(size=10000)\n",
    "df['wage'] = 1 - df['discrimination'] + df['occupation'] + df['ability'] + np.random.normal(size=10000)\n",
    "df.head()"
   ]
  },
  {
   "cell_type": "code",
   "execution_count": null,
   "metadata": {},
   "outputs": [],
   "source": []
  }
 ],
 "metadata": {
  "interpreter": {
   "hash": "5559e38aaa1a46293ac94fc6af3e6c13e1ce8b596ee75d4ce8712132156e5245"
  },
  "kernelspec": {
   "display_name": "Python 3.7.4 ('base')",
   "language": "python",
   "name": "python3"
  },
  "language_info": {
   "codemirror_mode": {
    "name": "ipython",
    "version": 3
   },
   "file_extension": ".py",
   "mimetype": "text/x-python",
   "name": "python",
   "nbconvert_exporter": "python",
   "pygments_lexer": "ipython3",
   "version": "3.7.4"
  },
  "orig_nbformat": 4
 },
 "nbformat": 4,
 "nbformat_minor": 2
}
